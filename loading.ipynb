{
 "cells": [
  {
   "cell_type": "code",
   "execution_count": 2,
   "id": "2ec6ccba",
   "metadata": {},
   "outputs": [
    {
     "name": "stdout",
     "output_type": "stream",
     "text": [
      "Requirement already satisfied: opencv-python-headless in /opt/anaconda3/lib/python3.12/site-packages (4.10.0)\n",
      "Collecting opencv-python-headless\n",
      "  Downloading opencv_python_headless-4.12.0.88-cp37-abi3-macosx_13_0_arm64.whl.metadata (19 kB)\n",
      "Collecting numpy<2.3.0,>=2 (from opencv-python-headless)\n",
      "  Using cached numpy-2.2.6-cp312-cp312-macosx_14_0_arm64.whl.metadata (62 kB)\n",
      "Downloading opencv_python_headless-4.12.0.88-cp37-abi3-macosx_13_0_arm64.whl (37.9 MB)\n",
      "\u001b[2K   \u001b[90m━━━━━━━━━━━━━━━━━━━━━━━━━━━━━━━━━━━━━━━━\u001b[0m \u001b[32m37.9/37.9 MB\u001b[0m \u001b[31m4.9 MB/s\u001b[0m eta \u001b[36m0:00:00\u001b[0m00:01\u001b[0m00:01\u001b[0mm\n",
      "\u001b[?25hUsing cached numpy-2.2.6-cp312-cp312-macosx_14_0_arm64.whl (5.1 MB)\n",
      "Installing collected packages: numpy, opencv-python-headless\n",
      "  Attempting uninstall: numpy\n",
      "    Found existing installation: numpy 2.3.3\n",
      "    Uninstalling numpy-2.3.3:\n",
      "      Successfully uninstalled numpy-2.3.3\n",
      "  Attempting uninstall: opencv-python-headless\n",
      "    Found existing installation: opencv-python-headless 4.10.0\n",
      "\u001b[1;31merror\u001b[0m: \u001b[1muninstall-no-record-file\u001b[0m\n",
      "\n",
      "\u001b[31m×\u001b[0m Cannot uninstall opencv-python-headless 4.10.0\n",
      "\u001b[31m╰─>\u001b[0m The package's contents are unknown: no RECORD file was found for opencv-python-headless.\n",
      "\n",
      "\u001b[1;36mhint\u001b[0m: The package was installed by conda. You should check if it can uninstall the package.\n"
     ]
    }
   ],
   "source": [
    "!pip install --upgrade opencv-python-headless\n",
    "\n"
   ]
  },
  {
   "cell_type": "code",
   "execution_count": 3,
   "id": "89c399f4",
   "metadata": {},
   "outputs": [
    {
     "name": "stdout",
     "output_type": "stream",
     "text": [
      "Requirement already satisfied: opencv-python in /opt/anaconda3/lib/python3.12/site-packages (4.10.0)\n",
      "Collecting opencv-python\n",
      "  Using cached opencv_python-4.12.0.88-cp37-abi3-macosx_13_0_arm64.whl.metadata (19 kB)\n",
      "Requirement already satisfied: numpy<2.3.0,>=2 in /opt/anaconda3/lib/python3.12/site-packages (from opencv-python) (2.2.6)\n",
      "Using cached opencv_python-4.12.0.88-cp37-abi3-macosx_13_0_arm64.whl (37.9 MB)\n",
      "Installing collected packages: opencv-python\n",
      "  Attempting uninstall: opencv-python\n",
      "    Found existing installation: opencv-python 4.10.0\n",
      "\u001b[1;31merror\u001b[0m: \u001b[1muninstall-no-record-file\u001b[0m\n",
      "\n",
      "\u001b[31m×\u001b[0m Cannot uninstall opencv-python 4.10.0\n",
      "\u001b[31m╰─>\u001b[0m The package's contents are unknown: no RECORD file was found for opencv-python.\n",
      "\n",
      "\u001b[1;36mhint\u001b[0m: The package was installed by conda. You should check if it can uninstall the package.\n"
     ]
    }
   ],
   "source": [
    "!pip install --upgrade opencv-python\n"
   ]
  },
  {
   "cell_type": "code",
   "execution_count": 4,
   "id": "c75bbfed",
   "metadata": {},
   "outputs": [
    {
     "name": "stdout",
     "output_type": "stream",
     "text": [
      "\n",
      "PackagesNotFoundError: The following packages are missing from the target environment:\n",
      "  - opencv-python\n",
      "  - opencv-python-headless\n",
      "\n",
      "\n",
      "\n",
      "Note: you may need to restart the kernel to use updated packages.\n"
     ]
    }
   ],
   "source": [
    "conda remove opencv opencv-python opencv-python-headless\n"
   ]
  },
  {
   "cell_type": "code",
   "execution_count": 5,
   "id": "52b6c79e",
   "metadata": {},
   "outputs": [
    {
     "name": "stdout",
     "output_type": "stream",
     "text": [
      "Channels:\n",
      " - defaults\n",
      "Platform: osx-arm64\n",
      "Collecting package metadata (repodata.json): done\n",
      "Solving environment: done\n",
      "\n",
      "## Package Plan ##\n",
      "\n",
      "  environment location: /opt/anaconda3\n",
      "\n",
      "  removed specs:\n",
      "    - opencv\n",
      "\n",
      "\n",
      "The following packages will be REMOVED:\n",
      "\n",
      "  aom-3.6.0-h313beb8_0\n",
      "  cairo-1.16.0-hd886ae0_6\n",
      "  dav1d-1.2.1-h80987f9_0\n",
      "  eigen-3.4.0-h48ca7d4_0\n",
      "  ffmpeg-6.1.1-h7693a39_3\n",
      "  fontconfig-2.14.1-h6402c1e_3\n",
      "  fribidi-1.0.10-h1a28f6b_0\n",
      "  gdk-pixbuf-2.42.10-h80987f9_1\n",
      "  giflib-5.2.2-h80987f9_0\n",
      "  graphite2-1.3.14-hc377ac9_1\n",
      "  harfbuzz-10.2.0-h34cd0bf_0\n",
      "  hdf5-1.14.5-hd77251f_2\n",
      "  lame-3.100-h1a28f6b_0\n",
      "  leptonica-1.82.0-h18c3764_2\n",
      "  libabseil-20240116.2-cxx17_h313beb8_0\n",
      "  libogg-1.3.5-h1a28f6b_1\n",
      "  libopus-1.3.1-h80987f9_1\n",
      "  libprotobuf-4.25.3-h514c7bf_0\n",
      "  librsvg-2.56.3-h79aa576_1\n",
      "  libtheora-1.1.1-h1a28f6b_3\n",
      "  libvorbis-1.3.7-h1a28f6b_0\n",
      "  libvpx-1.13.1-h313beb8_0\n",
      "  libwebp-1.3.2-ha3663a8_0\n",
      "  opencv-4.10.0-py312h6113af1_2\n",
      "  openh264-2.1.1-h98b2900_0\n",
      "  pango-1.50.7-h8ab3420_1\n",
      "  pixman-0.46.4-h09dc60e_0\n",
      "  tesseract-5.2.0-h313beb8_1\n",
      "\n",
      "\n",
      "\n",
      "Downloading and Extracting Packages:\n",
      "\n",
      "Preparing transaction: done\n",
      "Verifying transaction: done\n",
      "Executing transaction: done\n",
      "\n",
      "Note: you may need to restart the kernel to use updated packages.\n"
     ]
    }
   ],
   "source": [
    "conda remove opencv\n"
   ]
  },
  {
   "cell_type": "code",
   "execution_count": 6,
   "id": "a87d7379",
   "metadata": {},
   "outputs": [
    {
     "ename": "SyntaxError",
     "evalue": "invalid syntax (203152451.py, line 1)",
     "output_type": "error",
     "traceback": [
      "\u001b[0;36m  Cell \u001b[0;32mIn[6], line 1\u001b[0;36m\u001b[0m\n\u001b[0;31m    pip install --upgrade opencv-python-headless==4.12.0\u001b[0m\n\u001b[0m        ^\u001b[0m\n\u001b[0;31mSyntaxError\u001b[0m\u001b[0;31m:\u001b[0m invalid syntax\n"
     ]
    }
   ],
   "source": [
    "pip install --upgrade opencv-python-headless==4.12.0\n",
    "pip install --upgrade opencv-python==4.12.0"
   ]
  },
  {
   "cell_type": "code",
   "execution_count": 7,
   "id": "934fd9af",
   "metadata": {},
   "outputs": [
    {
     "name": "stdout",
     "output_type": "stream",
     "text": [
      "\u001b[31mERROR: Ignored the following yanked versions: 3.4.11.39, 3.4.11.41, 4.4.0.40, 4.4.0.42, 4.4.0.44, 4.5.5.62, 4.7.0.68, 4.8.0.74\u001b[0m\u001b[31m\n",
      "\u001b[0m\u001b[31mERROR: Could not find a version that satisfies the requirement opencv-python-headless==4.12.0 (from versions: 3.4.10.37, 3.4.11.43, 3.4.11.45, 3.4.13.47, 3.4.15.55, 3.4.16.59, 3.4.17.61, 3.4.17.63, 3.4.18.65, 4.3.0.38, 4.4.0.46, 4.5.1.48, 4.5.3.56, 4.5.4.58, 4.5.4.60, 4.5.5.64, 4.6.0.66, 4.7.0.72, 4.8.0.76, 4.8.1.78, 4.9.0.80, 4.10.0.82, 4.10.0.84, 4.11.0.86, 4.12.0.88)\u001b[0m\u001b[31m\n",
      "\u001b[0m\u001b[31mERROR: No matching distribution found for opencv-python-headless==4.12.0\u001b[0m\u001b[31m\n",
      "\u001b[0m"
     ]
    }
   ],
   "source": [
    "!pip install --upgrade opencv-python-headless==4.12.0\n",
    "\n"
   ]
  },
  {
   "cell_type": "code",
   "execution_count": 8,
   "id": "de230727",
   "metadata": {},
   "outputs": [
    {
     "name": "stdout",
     "output_type": "stream",
     "text": [
      "Requirement already satisfied: pip in /opt/anaconda3/lib/python3.12/site-packages (24.2)\n",
      "Collecting pip\n",
      "  Downloading pip-25.2-py3-none-any.whl.metadata (4.7 kB)\n",
      "Requirement already satisfied: setuptools in /opt/anaconda3/lib/python3.12/site-packages (75.1.0)\n",
      "Collecting setuptools\n",
      "  Using cached setuptools-80.9.0-py3-none-any.whl.metadata (6.6 kB)\n",
      "Requirement already satisfied: wheel in /opt/anaconda3/lib/python3.12/site-packages (0.44.0)\n",
      "Collecting wheel\n",
      "  Using cached wheel-0.45.1-py3-none-any.whl.metadata (2.3 kB)\n",
      "Downloading pip-25.2-py3-none-any.whl (1.8 MB)\n",
      "\u001b[2K   \u001b[90m━━━━━━━━━━━━━━━━━━━━━━━━━━━━━━━━━━━━━━━━\u001b[0m \u001b[32m1.8/1.8 MB\u001b[0m \u001b[31m20.4 MB/s\u001b[0m eta \u001b[36m0:00:00\u001b[0m\n",
      "\u001b[?25hUsing cached setuptools-80.9.0-py3-none-any.whl (1.2 MB)\n",
      "Using cached wheel-0.45.1-py3-none-any.whl (72 kB)\n",
      "Installing collected packages: wheel, setuptools, pip\n",
      "  Attempting uninstall: wheel\n",
      "    Found existing installation: wheel 0.44.0\n",
      "    Uninstalling wheel-0.44.0:\n",
      "      Successfully uninstalled wheel-0.44.0\n",
      "  Attempting uninstall: setuptools\n",
      "    Found existing installation: setuptools 75.1.0\n",
      "    Uninstalling setuptools-75.1.0:\n",
      "      Successfully uninstalled setuptools-75.1.0\n",
      "  Attempting uninstall: pip\n",
      "    Found existing installation: pip 24.2\n",
      "    Uninstalling pip-24.2:\n",
      "      Successfully uninstalled pip-24.2\n",
      "\u001b[31mERROR: pip's dependency resolver does not currently take into account all the packages that are installed. This behaviour is the source of the following dependency conflicts.\n",
      "jupyter 1.1.1 requires jupyter-console, which is not installed.\u001b[0m\u001b[31m\n",
      "\u001b[0mSuccessfully installed pip-25.2 setuptools-80.9.0 wheel-0.45.1\n",
      "Collecting opencv-python-headless==4.12.0.88\n",
      "  Using cached opencv_python_headless-4.12.0.88-cp37-abi3-macosx_13_0_arm64.whl.metadata (19 kB)\n",
      "Requirement already satisfied: numpy<2.3.0,>=2 in /opt/anaconda3/lib/python3.12/site-packages (from opencv-python-headless==4.12.0.88) (2.2.6)\n",
      "Using cached opencv_python_headless-4.12.0.88-cp37-abi3-macosx_13_0_arm64.whl (37.9 MB)\n",
      "Installing collected packages: opencv-python-headless\n",
      "Successfully installed opencv-python-headless-4.12.0.88\n"
     ]
    }
   ],
   "source": [
    "!pip install --upgrade pip setuptools wheel\n",
    "!pip install opencv-python-headless==4.12.0.88\n"
   ]
  },
  {
   "cell_type": "code",
   "execution_count": 1,
   "id": "2738b84d",
   "metadata": {},
   "outputs": [
    {
     "name": "stdout",
     "output_type": "stream",
     "text": [
      "\n",
      "CondaError: Run 'conda init' before 'conda activate'\n",
      "\n",
      "\n",
      "Note: you may need to restart the kernel to use updated packages.\n"
     ]
    }
   ],
   "source": [
    "conda activate base  # or your specific env\n"
   ]
  },
  {
   "cell_type": "code",
   "execution_count": 2,
   "id": "a67695c0",
   "metadata": {},
   "outputs": [
    {
     "name": "stdout",
     "output_type": "stream",
     "text": [
      "Requirement already satisfied: pip in /opt/anaconda3/lib/python3.12/site-packages (25.2)\n",
      "Requirement already satisfied: setuptools in /opt/anaconda3/lib/python3.12/site-packages (80.9.0)\n",
      "Requirement already satisfied: wheel in /opt/anaconda3/lib/python3.12/site-packages (0.45.1)\n"
     ]
    }
   ],
   "source": [
    "!pip install --upgrade pip setuptools wheel\n"
   ]
  },
  {
   "cell_type": "code",
   "execution_count": 3,
   "id": "21adb8aa",
   "metadata": {},
   "outputs": [
    {
     "name": "stdout",
     "output_type": "stream",
     "text": [
      "Requirement already satisfied: opencv-python-headless==4.12.0.88 in /opt/anaconda3/lib/python3.12/site-packages (4.12.0.88)\n",
      "Requirement already satisfied: numpy<2.3.0,>=2 in /opt/anaconda3/lib/python3.12/site-packages (from opencv-python-headless==4.12.0.88) (2.2.6)\n"
     ]
    }
   ],
   "source": [
    "!pip install opencv-python-headless==4.12.0.88\n"
   ]
  },
  {
   "cell_type": "code",
   "execution_count": 4,
   "id": "25374927",
   "metadata": {},
   "outputs": [
    {
     "name": "stdout",
     "output_type": "stream",
     "text": [
      "4.12.0\n"
     ]
    }
   ],
   "source": [
    "import cv2\n",
    "print(cv2.__version__)  # should show 4.12.0\n"
   ]
  },
  {
   "cell_type": "code",
   "execution_count": null,
   "id": "780f41a1",
   "metadata": {},
   "outputs": [],
   "source": []
  }
 ],
 "metadata": {
  "kernelspec": {
   "display_name": "base",
   "language": "python",
   "name": "python3"
  },
  "language_info": {
   "codemirror_mode": {
    "name": "ipython",
    "version": 3
   },
   "file_extension": ".py",
   "mimetype": "text/x-python",
   "name": "python",
   "nbconvert_exporter": "python",
   "pygments_lexer": "ipython3",
   "version": "3.12.7"
  }
 },
 "nbformat": 4,
 "nbformat_minor": 5
}
